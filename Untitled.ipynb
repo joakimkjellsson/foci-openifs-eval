{
 "cells": [
  {
   "cell_type": "code",
   "execution_count": null,
   "metadata": {},
   "outputs": [],
   "source": [
    "def enso(sst):\n",
    "    \"\"\"\n",
    "    \"\"\"\n",
    "    sst_anom = sst.groupby('time.month') - sst.groupby('time.month').mean('time')\n",
    "    sst_nino = sst_anom.sel(lon=slice(210,270),lat=slice(-5,5))\n",
    "    nino = sst_nino.mean(('lon','lat'))\n",
    "    nino_chnk = nino.chunk({'time':100})\n",
    "    nino_run = nino_chnk.rolling(time=5,center=True).mean()\n",
    "    \n",
    "    # Find El Nino and La Nina events\n",
    "    vals = nino_run.dropna('time').values\n",
    "    el_nino_cut = vals.std()\n",
    "    la_nina_cut = -vals.std()\n",
    "    en = np.where(vals >= el_nino_cut)\n",
    "    ln = np.where(vals <= la_nina_cut)\n",
    "    \n",
    "    return nino_run,en,ln"
   ]
  },
  {
   "cell_type": "code",
   "execution_count": null,
   "metadata": {},
   "outputs": [],
   "source": [
    "fig1, axs1 = plt.subplots(1,1)\n",
    "fig2, axs2 = plt.subplots(len(exp_list),3)\n",
    "\n",
    "for i in range(0,len(exp_list)):\n",
    "    ds_sfc = ds_sfc_all[i]\n",
    "    sst = ds_sfc['sstk'][12*30:]\n",
    "    nino3,elnino,lanina = enso(sst)\n",
    "    \n",
    "    nino3.plot(ax=axs1)\n",
    "    \n",
    "    sst_en = sst[elnino].mean('time') - sst.mean('time')\n",
    "    print(sst_en)\n",
    "    sst_ln = sst[lanina].mean('time') - sst.mean('time')\n",
    "    \n",
    "    sst_en.plot(ax=axs2[0])\n",
    "    sst_ln.plot(ax=axs2[1])\n",
    "    (sst_en + sst_ln).plot(ax=axs2[2])"
   ]
  }
 ],
 "metadata": {
  "kernelspec": {
   "display_name": "Python [conda env:py3_std]",
   "language": "python",
   "name": "conda-env-py3_std-py"
  },
  "language_info": {
   "codemirror_mode": {
    "name": "ipython",
    "version": 3
   },
   "file_extension": ".py",
   "mimetype": "text/x-python",
   "name": "python",
   "nbconvert_exporter": "python",
   "pygments_lexer": "ipython3",
   "version": "3.7.7"
  }
 },
 "nbformat": 4,
 "nbformat_minor": 4
}
